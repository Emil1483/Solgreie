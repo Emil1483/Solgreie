{
 "cells": [
  {
   "cell_type": "markdown",
   "metadata": {},
   "source": [
    "# Modellere temperaturen på jorden\n",
    "\n",
    "## Innledning\n",
    "I denne oppgaven skal jeg forsøke å lage en god (eller hvertfall aksepterbar) modell for temperaturen på jordas overflate.\n",
    "\n",
    "## Teori\n",
    "Temperaturen på jorda er en funskjon av utrolig mange parametere. En av de viktigste parameterne er \"solkonstanten\" (i koden: \"radiation_earth\"). Denne konstanten beskriver hvor mye energi som overflaten til jorden får av sola, per kvadratmeter, per sekund, på grunn av strålingen fra sola. Enheten er altså $\\frac{W}{m^2}$. Det er viktig å merke seg at denne konstanten antar at overflaten står normalt på solstrålene. Solkonstanten kan man finne med denne formelen:\n",
    "$$ S = \\sigma T^4 \\frac{r^2}{d^2} $$\n",
    "der $S$ er solkonstanten, $\\sigma = 5.6703*10^{-8}$, $r$ er radiusen til solen og $d$ er distansen mellom jorden og solen"
   ]
  },
  {
   "cell_type": "code",
   "execution_count": 87,
   "metadata": {},
   "outputs": [
    {
     "name": "stdout",
     "output_type": "stream",
     "text": [
      "solkonstanten: 1369.3297797280723 W/m^2\n"
     ]
    }
   ],
   "source": [
    "dist = 149_597_870e3\n",
    "r_sun = 696_340e3\n",
    "t_sun = 5_778\n",
    "sigma = 5.6703e-8\n",
    "\n",
    "def radiation_earth_given_dist(d):\n",
    "    return sigma * t_sun**4 * r_sun**2 /  d**2\n",
    "\n",
    "radiation_earth = radiation_earth_given_dist(dist)\n",
    "\n",
    "print(f'solkonstanten: {radiation_earth} W/m^2')"
   ]
  },
  {
   "cell_type": "markdown",
   "metadata": {},
   "source": [
    "Her kan vi se at solkonstanten er ca. 1369,33 $\\frac{W}{m^2}$.\n",
    "\n",
    "Det er viktig å merke seg at dette kun er en tilnærming som ikke tar for seg at:\n",
    "- distansen mellom jorda og sola ikke er konstant\n",
    "- temperaturen til sola ikke er konstant\n",
    "- solstrålene kan tildekkes av andre astronomiske objekter\n",
    "\n",
    "Men dersom vi lagde en modell for solkonstanten som tok alle disse endringene inn i betraktning, ville det ikke gjordt en stor forskjell. 1369,33 er altså en ganske god tilnærming, selv om den ikke er perfekt. Så la oss bruke den.\n",
    "\n",
    "Først vil jeg finne den totale energien (i koden: energy_earth) som blir tilført jorden, av solen, per sekund. Det er så lett som å gange solkonstanten med den totale arealet som jorda ser ut til å ha, fra solen. Og siden jorda ser ut som en 2D sirker fra solas perspektiv, er dette arealet bare $\\pi r^2$. Men en andel av den strålingen blir reflektert, og har derfor aldri en effekt på jorda. Derfor ganger jeg til slutt med en konstant albedo som jeg tenker at er $0,7$. Jeg antar altså at $30$% av strålingen blir reflektert"
   ]
  },
  {
   "cell_type": "code",
   "execution_count": 120,
   "metadata": {
    "scrolled": true
   },
   "outputs": [
    {
     "name": "stdout",
     "output_type": "stream",
     "text": [
      "den totale energien som treffer jorda, per sekund: 1.222281324192855e+17 W\n"
     ]
    }
   ],
   "source": [
    "from math import pi\n",
    "\n",
    "r_earth = 6_371e3\n",
    "area_earth = pi * r_earth**2\n",
    "\n",
    "def energy_earth_given_radiation(radiation, albedo=0.7):\n",
    "    return radiation * area_earth * albedo\n",
    "\n",
    "energy_earth = energy_earth_given_radiation(radiation_earth)\n",
    "print(f'den totale energien som treffer jorda, per sekund: {energy_earth} W')"
   ]
  },
  {
   "cell_type": "markdown",
   "metadata": {},
   "source": [
    "Det er liten grunn til å tro at $1,22*10^{17} W$ er et upresist tall, dersom verdien jeg valgte for albedo var perfekt. Problemet er bare at 0,7 er et vilkålig tall jeg valgte med magefølelsen min, og tallet kan ikke støtte seg på vitenskaplige målinger. Derfor er nok dette tallet ganske upresist, men jeg velger å bruke det alikavel.\n",
    "\n",
    "## La oss finne temperaturen på jorda (endelig!)\n",
    "\n",
    "La oss tenke oss at jorden varmes opp av sola, fra $0^{\\circ}K$. Da ville den fått energi fra sola, samtidig som at den gir fra seg energi i form av sin egen stråling. La oss skrive det mer konkret, med en diff. ligning:\n",
    "$$\n",
    "\\dot E = S - A \\sigma T^4\n",
    "$$\n",
    "\n",
    "Her er:\n",
    "- E: den totale energien på jorda\n",
    "- S: den totale energien som jorda får av sola\n",
    "- A: overflatearealet til jorda\n",
    "- T: temperaturen på jorda\n",
    "- $\\sigma = 5.6703*10^{-8}$\n",
    "\n",
    "La oss omforme dette så vi finner $\\dot T$:\n",
    "$$\n",
    "\\dot T = \\frac{S - A \\sigma T^4}{A}\n",
    "$$\n",
    "\n",
    "Her antar jeg altså at $T=\\frac{E}{A}$, og det kan hende at ikke er presist. Denne antagelsen kommer fra at temperaturen er propesjonal med varme-energien, men omvendt propesjonal med arealet, og at propesjonalitetskonstantene krysser hverandre ut til slutt. At propesjonalitetskonstantene krysser hverandre ut kan virke som en gangske vill antagelse, men vi kommer alikavel til å få gangske gode resultater, som leder meg til å tro at det er riktig.\n",
    "\n",
    "Videre, vi kan nå bruke Euler's metode for å estimere hva temperaturen til jorda blir etter at solen har varmet den opp en stund, ut ifra denne diff. ligningen."
   ]
  },
  {
   "cell_type": "code",
   "execution_count": 129,
   "metadata": {
    "scrolled": true
   },
   "outputs": [
    {
     "name": "stdout",
     "output_type": "stream",
     "text": [
      "sluttemperatur: -18.212958017772195 grader C\n"
     ]
    },
    {
     "data": {
      "image/png": "[encoded data removed]",
      "text/plain": [
       "<Figure size 432x288 with 1 Axes>"
      ]
     },
     "metadata": {
      "needs_background": "light"
     },
     "output_type": "display_data"
    }
   ],
   "source": [
    "from pylab import *\n",
    "\n",
    "S = energy_earth\n",
    "A = surface_earth\n",
    "\n",
    "t_list = []\n",
    "T_list = []\n",
    "\n",
    "def T_dot(T):\n",
    "    return (S - A * sigma * T**4) / A\n",
    "\n",
    "dt = 1e-3\n",
    "t_max = 3\n",
    "T = 0\n",
    "for t in arange(0, t_max, dt):\n",
    "    T += T_dot(T) * dt\n",
    "    \n",
    "    t_list.append(t)\n",
    "    T_list.append(T)\n",
    "\n",
    "plot(t_list, T_list, label='temperatur på jorda')\n",
    "legend()\n",
    "xlabel('tid')\n",
    "ylabel('temperatur (K)')\n",
    "T_in_C = T_list[-1] - 273.15\n",
    "print(f'sluttemperatur: {T_in_C} grader C')"
   ]
  },
  {
   "cell_type": "markdown",
   "metadata": {},
   "source": [
    "Her kan vi se at temperaturen øker linært fram til jorda blir varm nok til å gi fra seg like mye stråling som den får av sola. Det er her grafen flater seg ut. Og da fikk den en sluttemperatur på ca. $-18,2^{\\circ} C$\n",
    "\n",
    "Men gjennomsnittstemperaturen på jorda er hvertfall ikke -18 grader! Og dette er antagelig på grunn av noen ganske grove antagelser vi har gjordt fram til nå. Diff. ligningen vår antar at:\n",
    "- jorda er en perfekt sirkel, i perfekt vakum\n",
    "- jorda ikke har noen atmotsfære\n",
    "- jorda ikke blir varmet opp av sin egen kjerne\n",
    "\n",
    "## På tide å modellere en atmotsfære\n",
    "\n",
    "Så la oss nå forsøke å modellere en atmotsfære. Først vil jeg understreke noen antagelser jeg gjør:\n",
    "- All stråling fra sola går rett gjennom atmotsfæren\n",
    "- All stråling fra jorda treffer atmotsfæren\n",
    "- Halvparten av strålingen fra atmotsfæren treffer jorda\n",
    "- Atmotsfæren ikke har volum, og har lik areal som jorda\n",
    "\n",
    "Vi skal gjøre det samme som vi gjorde i modellen før, men nå må vi også holde styr på temperaturen i atmotsfæren og vi får derfor 2 diff. ligninger som sammen forklarer situasjonen. Først, temperaturen i atmotsfæren: Atmotsfæren får energi av strålingen fra jorda, samtidig som at den gir fra stråling. Dette kan representeres av diff. ligningen\n",
    "\n",
    "$$\n",
    "\\dot E_a = A(\\sigma T_j^4 - \\sigma T_a^4)\n",
    "$$\n",
    "der:\n",
    "- $E_a$ er varmeenergien i atmotsfæren\n",
    "- $T_j$ er temperaturen på jorda\n",
    "- $T_a$ er temperaturen i atmotsfæren\n",
    "- $A$ er overflatearealet til jorda\n",
    "- $\\sigma = 5.6703*10^{-8}$\n",
    "\n",
    "La oss omformulere ligningen til å finne $\\dot T_a$ ved samme argument som ved forrige gang:\n",
    "\n",
    "$$\n",
    "\\dot T_a = \\sigma T_j^4 - \\sigma T_a^4\n",
    "$$\n",
    "\n",
    "Nå, la oss finne en diff. ligning for temperaturen på jorda:\n",
    "- Jorda får energi fra varmestrålingen fra sola\n",
    "- Jorda får energi fra strålingen til atmotsfæren. Her antar jeg at halvparten av strålingen som atmotsfæren sender ut, treffer jorda, mens resten går til verdensrommet\n",
    "- Jorda gir fra sin egen varmestråling\n",
    "Dette kan representeres med følgende diff. ligning:\n",
    "$$\n",
    "\\dot E_j = S + A 0.5 \\sigma T_a^4 - A \\sigma T_j^4\n",
    "$$\n",
    "\n",
    "La oss omformulere ligningen til å finne $\\dot T_j$ ved samme argument som ved forrige gang:\n",
    "\n",
    "$$\n",
    "\\dot T_j = \\frac{S}{A} + 0.5 \\sigma T_a^4 - \\sigma T_j^4\n",
    "$$\n",
    "\n",
    "Videre, vi kan nå (endelig) bruke Euler's metode for å estimere hva temperaturen til jorda og atmotsfæren blir etter at solen har varmet dem opp i en stund."
   ]
  },
  {
   "cell_type": "code",
   "execution_count": 133,
   "metadata": {},
   "outputs": [
    {
     "name": "stdout",
     "output_type": "stream",
     "text": [
      "sluttemperaturen på jorda er 29.752319146825528 grader C\n"
     ]
    },
    {
     "data": {
      "image/png": "[encoded data removed]",
      "text/plain": [
       "<Figure size 432x288 with 1 Axes>"
      ]
     },
     "metadata": {
      "needs_background": "light"
     },
     "output_type": "display_data"
    }
   ],
   "source": [
    "from pylab import *\n",
    "\n",
    "S = energy_earth_given_radiation(radiation_earth)\n",
    "A = surface_earth\n",
    "\n",
    "t_list = []\n",
    "T_j_list = []\n",
    "T_a_list = []\n",
    "\n",
    "def T_j_dot(T_j, T_a):\n",
    "    return (S / A) + 0.5 * sigma * T_a**4 - sigma * T_j**4\n",
    "\n",
    "def T_a_dot(T_j, T_a):\n",
    "    return sigma * T_j**4 - sigma * T_a**4\n",
    "\n",
    "dt = 1e-3\n",
    "t_max = 5\n",
    "T_j = 0\n",
    "T_a = 0\n",
    "for t in arange(0, t_max, dt):\n",
    "    T_j += T_j_dot(T_j, T_a) * dt\n",
    "    T_a += T_a_dot(T_j, T_a) * dt\n",
    "    \n",
    "    t_list.append(t)\n",
    "    T_j_list.append(T_j)\n",
    "    T_a_list.append(T_a)\n",
    "\n",
    "plot(t_list, T_j_list, label='temperaturen på jorda')\n",
    "plot(t_list, T_a_list, label='temperaturen i atmotsfæren')\n",
    "\n",
    "legend()\n",
    "xlabel('tid')\n",
    "ylabel('temperatur (K)')\n",
    "\n",
    "T_in_C = T_j_list[-1] - 273.15\n",
    "print(f'sluttemperaturen på jorda er {T_in_C} grader C')"
   ]
  },
  {
   "cell_type": "markdown",
   "metadata": {},
   "source": [
    "Her kan vi se at sola varmer opp jorda og atmotsfæren til de etter hvert blir ca. $29,8^{\\circ} C$. Dette er ikke nøyaktig lik den måte gjennomsnittstemperaturen som er ca. $15^{\\circ} C$, men vi nærmer oss.\n",
    "\n",
    "Grunnen til at modellen ikke stemmer med virkeligheten er på grunn av noen sentrale antagelser vi har gjordt. Som at all stråling fra sola på jorda ikke samhandler med atmotsfæren på noen som helst måte. Og at temperaturen er lik over hele jorda og atmotsfæren. Og at atmotsfæren ikke har tykkelse. Eller at halvparten av strålingen fra atmotsfæren treffer jorda, mest sansynlig treffer antagelig rundt 30-40 % på grunn av atmotsfærens høyde over overflaten på jorda, og på grunn av refleksjon osv."
   ]
  },
  {
   "cell_type": "code",
   "execution_count": 118,
   "metadata": {},
   "outputs": [
    {
     "name": "stdout",
     "output_type": "stream",
     "text": [
      "15.317459964555667\n"
     ]
    },
    {
     "data": {
      "image/png": "[encoded data removed]",
      "text/plain": [
       "<Figure size 432x288 with 1 Axes>"
      ]
     },
     "metadata": {
      "needs_background": "light"
     },
     "output_type": "display_data"
    }
   ],
   "source": [
    "from pylab import *\n",
    "\n",
    "def temp_earth_given_S(S, should_plot=True):\n",
    "    A = surface_earth\n",
    "    alfa = 0.5\n",
    "    beta = 0.65\n",
    "\n",
    "    t_list = []\n",
    "    T_j_list = []\n",
    "    T_a_list = []\n",
    "\n",
    "    def T_j_der(T_j, T_a):\n",
    "        return (S / A) * beta + alfa * sigma * T_a**4 - sigma * T_j**4\n",
    "\n",
    "    def T_a_der(T_j, T_a):\n",
    "        return (S / A) * (1 - beta) + sigma * T_j**4 - sigma * T_a**4\n",
    "\n",
    "    dt = 1e-3\n",
    "    t_max = 5\n",
    "    T_j = 0\n",
    "    T_a = 0\n",
    "    for t in arange(0, t_max, dt):\n",
    "        T_j += T_j_der(T_j, T_a) * dt\n",
    "        T_a += T_a_der(T_j, T_a) * dt\n",
    "\n",
    "        t_list.append(t)\n",
    "        T_j_list.append(T_j)\n",
    "        T_a_list.append(T_a)\n",
    "\n",
    "    if (should_plot):\n",
    "        plot(t_list, T_j_list)\n",
    "        plot(t_list, T_a_list)\n",
    "    return T_j_list[-1]\n",
    "\n",
    "S = energy_earth_given_radiation(radiation_earth)\n",
    "print(temp_earth_given_S(S) - 273.15)"
   ]
  },
  {
   "cell_type": "code",
   "execution_count": 119,
   "metadata": {},
   "outputs": [
    {
     "name": "stdout",
     "output_type": "stream",
     "text": [
      "Temperaturen i Norge i løpet av et år 🦄: min: -24.475815633430074, max: 11.512715688091589\n"
     ]
    },
    {
     "data": {
      "image/png": "[encoded data removed]",
      "text/plain": [
       "<Figure size 432x288 with 1 Axes>"
      ]
     },
     "metadata": {
      "needs_background": "light"
     },
     "output_type": "display_data"
    }
   ],
   "source": [
    "from math import sin\n",
    "\n",
    "temps = []\n",
    "year = range(365)\n",
    "\n",
    "ap = 152_098_233e3\n",
    "per = 147_098_291e3\n",
    "a = (ap + per) / 2\n",
    "diff = ap - a\n",
    "\n",
    "latitude = 59.8562209 * pi / 180\n",
    "earth_tilt = 23.5 * pi / 180\n",
    "\n",
    "avg_radiation = radiation_earth_given_dist(149_597_870e3)\n",
    "avg_S = energy_earth_given_radiation(avg_radiation)\n",
    "avg_temp = temp_earth_given_S(avg_S, should_plot=False)\n",
    "\n",
    "gamma = 0.8\n",
    "\n",
    "for day in year:\n",
    "    theta = 2 * pi * day / len(year)\n",
    "    dist = - diff * cos(theta) + a\n",
    "    radiation = radiation_earth_given_dist(dist)\n",
    "    n_lat = earth_tilt * cos(theta) + latitude\n",
    "    cos_lat = cos(n_lat)\n",
    "    S = cos_lat * energy_earth_given_radiation(radiation)\n",
    "    temperature_norway = temp_earth_given_S(S, should_plot=False)\n",
    "    temperature_norway = temperature_norway * (1 - gamma) + avg_temp * gamma\n",
    "    temps.append(temperature_norway)\n",
    "\n",
    "plot(year, temps)\n",
    "\n",
    "min_temp = min(temps) - 273.15\n",
    "max_temp = max(temps) - 273.15\n",
    "print(f'Temperaturen i Norge i løpet av et år 🦄: min: {min_temp}, max: {max_temp}')"
   ]
  },
  {
   "cell_type": "code",
   "execution_count": null,
   "metadata": {},
   "outputs": [],
   "source": []
  }
 ],
 "metadata": {
  "kernelspec": {
   "display_name": "Python 3",
   "language": "python",
   "name": "python3"
  },
  "language_info": {
   "codemirror_mode": {
    "name": "ipython",
    "version": 3
   },
   "file_extension": ".py",
   "mimetype": "text/x-python",
   "name": "python",
   "nbconvert_exporter": "python",
   "pygments_lexer": "ipython3",
   "version": "3.8.3"
  }
 },
 "nbformat": 4,
 "nbformat_minor": 4
}
